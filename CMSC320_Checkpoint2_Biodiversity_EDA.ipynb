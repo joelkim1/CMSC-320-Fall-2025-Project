{
 "cells": [
  {
   "cell_type": "markdown",
   "id": "f342e924",
   "metadata": {},
   "source": [
    "\n",
    "# CMSC 320 — Checkpoint 2: Data Preprocessing & EDA\n",
    "**Dataset:** Biodiversity by County — Distribution of Animals, Plants, and Natural Communities (NY)\n",
    "\n",
    "This notebook fulfills **Checkpoint 2 (25 pts)**:\n",
    "- **Data preprocessing (5 pts):** import, parse, organize\n",
    "- **Exploration & statistics (20 pts):** three conclusions using at least three methods (incl. hypothesis testing), with plots\n"
   ]
  },
  {
   "cell_type": "code",
   "execution_count": null,
   "id": "c41b19b1",
   "metadata": {},
   "outputs": [],
   "source": [
    "\n",
    "import pandas as pd\n",
    "import numpy as np\n",
    "import matplotlib.pyplot as plt\n",
    "from scipy import stats\n",
    "import re\n",
    "\n",
    "# Render plots inline\n",
    "%matplotlib inline\n"
   ]
  },
  {
   "cell_type": "markdown",
   "id": "b7e4d5de",
   "metadata": {},
   "source": [
    "## 1) Data Import, Parsing, and Organization (Preprocessing)"
   ]
  },
  {
   "cell_type": "code",
   "execution_count": null,
   "id": "a449bea4",
   "metadata": {},
   "outputs": [],
   "source": [
    "\n",
    "# Load dataset\n",
    "csv_path = \"Biodiversity_by_County_-_Distribution_of_Animals__Plants_and_Natural_Communities (1).csv\"\n",
    "df_raw = pd.read_csv(csv_path)\n",
    "\n",
    "# Clean column names\n",
    "def clean_cols(cols):\n",
    "    return [re.sub(r'[^0-9a-zA-Z_]+', '', c.strip().lower().replace(' ', '_')) for c in cols]\n",
    "\n",
    "df = df_raw.copy()\n",
    "df.columns = clean_cols(df.columns)\n",
    "\n",
    "# Strip whitespace on key text columns\n",
    "for col in ['county','category','taxonomic_group','taxonomic_subgroup','scientific_name','common_name',\n",
    "            'ny_listing_status','federal_listing_status','state_conservation_rank','global_conservation_rank',\n",
    "            'distribution_status']:\n",
    "    df[col] = df[col].astype(str).str.strip()\n",
    "\n",
    "# Convert year to numeric\n",
    "df['year_last_documented'] = pd.to_numeric(df['year_last_documented'], errors='coerce').astype('Int64')\n",
    "\n",
    "print(df.shape)\n",
    "df.head()\n"
   ]
  },
  {
   "cell_type": "markdown",
   "id": "0a193fe8",
   "metadata": {},
   "source": [
    "\n",
    "### Feature Engineering\n",
    "- **`state_rarity_score`** from `state_conservation_rank` (S1 rare → 5 … S5 common → 1; SH/SX treated as rare).\n",
    "- **`federally_listed_flag`** and **`state_listed_flag`** from listing status fields (1 if listed, else 0).\n",
    "- **Deduplication** at `(county, scientific_name)` to treat each species once per county.\n"
   ]
  },
  {
   "cell_type": "code",
   "execution_count": null,
   "id": "0e57bf34",
   "metadata": {},
   "outputs": [],
   "source": [
    "\n",
    "def s_rank_to_score(s):\n",
    "    if not isinstance(s, str) or s.strip() == \"\":\n",
    "        return np.nan\n",
    "    s = s.upper()\n",
    "    m = re.search(r'S([1-5])', s)  # pick first digit if S1S2 etc.\n",
    "    if m:\n",
    "        digit = int(m.group(1))\n",
    "        return 6 - digit  # S1 -> 5 (rare) ... S5 -> 1 (common)\n",
    "    if s.startswith('SH') or s.startswith('SX'):\n",
    "        return 5\n",
    "    return np.nan\n",
    "\n",
    "def listed_flag(x):\n",
    "    x = str(x).strip().upper()\n",
    "    if x in (\"\", \"NOT LISTED\", \"NONE\", \"N/A\", \"NA\"):\n",
    "        return 0\n",
    "    return 1\n",
    "\n",
    "df['state_rarity_score'] = df['state_conservation_rank'].apply(s_rank_to_score)\n",
    "df['federally_listed_flag'] = df['federal_listing_status'].apply(listed_flag).astype(int)\n",
    "df['state_listed_flag'] = df['ny_listing_status'].apply(listed_flag).astype(int)\n",
    "\n",
    "# Deduplicate species per county\n",
    "df_unique = df.drop_duplicates(subset=['county','scientific_name']).copy()\n",
    "\n",
    "df_unique[['county','category','taxonomic_group','scientific_name','state_conservation_rank','state_rarity_score']].head()\n"
   ]
  },
  {
   "cell_type": "markdown",
   "id": "3e468381",
   "metadata": {},
   "source": [
    "## 2) Exploratory Data Analysis & Summary Statistics"
   ]
  },
  {
   "cell_type": "markdown",
   "id": "c9ac00b0",
   "metadata": {},
   "source": [
    "\n",
    "### Method 1: Descriptive Statistics (Species Richness by County)\n",
    "- Compute **unique species per county** (richness).\n",
    "- Report summary statistics and visualize the **Top 15 counties**.\n"
   ]
  },
  {
   "cell_type": "code",
   "execution_count": null,
   "id": "8517179e",
   "metadata": {},
   "outputs": [],
   "source": [
    "\n",
    "species_by_county = df_unique.groupby('county')['scientific_name'].nunique().sort_values(ascending=False)\n",
    "display(species_by_county.describe())\n",
    "\n",
    "top15 = species_by_county.head(15)\n",
    "plt.figure()\n",
    "top15.plot(kind='bar')\n",
    "plt.title(\"Top 15 NY Counties by Unique Species (Richness)\")\n",
    "plt.xlabel(\"County\")\n",
    "plt.ylabel(\"Unique species count\")\n",
    "plt.xticks(rotation=45, ha='right')\n",
    "plt.tight_layout()\n",
    "plt.show()\n"
   ]
  },
  {
   "cell_type": "markdown",
   "id": "727056b9",
   "metadata": {},
   "source": [
    "\n",
    "### Method 2: Correlation — Total Species vs. Rare Species\n",
    "- Define **rare** as `state_rarity_score >= 4` (S1–S2 or historical/possibly extirpated).\n",
    "- Compute **per-county** totals and rare counts.\n",
    "- Compute **Pearson correlation** and show a **scatter with a regression line**.\n"
   ]
  },
  {
   "cell_type": "code",
   "execution_count": null,
   "id": "2e119200",
   "metadata": {},
   "outputs": [],
   "source": [
    "\n",
    "rare_mask = df_unique['state_rarity_score'] >= 4\n",
    "rare_counts = df_unique[rare_mask].groupby('county')['scientific_name'].nunique()\n",
    "\n",
    "county_df = pd.DataFrame({\n",
    "    'total_species': species_by_county,\n",
    "    'rare_species': rare_counts\n",
    "}).fillna(0)\n",
    "\n",
    "r, p = stats.pearsonr(county_df['total_species'], county_df['rare_species'])\n",
    "print({'pearson_r': r, 'p_value': p})\n",
    "\n",
    "x = county_df['total_species'].values\n",
    "y = county_df['rare_species'].values\n",
    "slope, intercept, r_value, p_value, std_err = stats.linregress(x, y)\n",
    "\n",
    "plt.figure()\n",
    "plt.scatter(x, y)\n",
    "x_line = np.linspace(x.min(), x.max(), 100)\n",
    "y_line = slope * x_line + intercept\n",
    "plt.plot(x_line, y_line)\n",
    "plt.title(\"Total vs Rare Species by County\")\n",
    "plt.xlabel(\"Total unique species\")\n",
    "plt.ylabel(\"Rare species (S1–S2)\")\n",
    "plt.tight_layout()\n",
    "plt.show()\n"
   ]
  },
  {
   "cell_type": "markdown",
   "id": "1d5e49df",
   "metadata": {},
   "source": [
    "\n",
    "### Method 3: Hypothesis Test — Are Plants and Animals Equally Rare?\n",
    "We test whether the **distribution of state rarity scores** differs between **Animals** and **Plants** using a **Mann–Whitney U** test (non-parametric).\n"
   ]
  },
  {
   "cell_type": "code",
   "execution_count": null,
   "id": "592ac92e",
   "metadata": {},
   "outputs": [],
   "source": [
    "\n",
    "a = df_unique[df_unique['category'].str.upper()=='ANIMAL']['state_rarity_score'].dropna()\n",
    "b = df_unique[df_unique['category'].str.upper()=='PLANT']['state_rarity_score'].dropna()\n",
    "\n",
    "print({'n_animals': len(a), 'n_plants': len(b)})\n",
    "\n",
    "U, pval = stats.mannwhitneyu(a, b, alternative='two-sided')\n",
    "print({'test': 'Mann-Whitney U', 'U': U, 'p_value': pval})\n",
    "\n",
    "plt.figure()\n",
    "plt.boxplot([a.values, b.values], labels=['Animal', 'Plant'])\n",
    "plt.title(\"State Rarity Score by Category\")\n",
    "plt.ylabel(\"Rarity score (5 rare … 1 common)\")\n",
    "plt.tight_layout()\n",
    "plt.show()\n"
   ]
  },
  {
   "cell_type": "markdown",
   "id": "a9a5b816",
   "metadata": {},
   "source": [
    "\n",
    "## 3) Conclusions (Three Takeaways)\n",
    "\n",
    "1. **County species richness varies widely** (see Top 15 plot). This informs where conservation inventories are concentrated and suggests heterogeneous habitat diversity across counties.\n",
    "2. **Total species strongly predicts rare species counts** across counties (high Pearson *r*). Practically, conservation planning in species-rich counties may protect a disproportionate share of rare taxa.\n",
    "3. **Animals and Plants differ in rarity distributions** (Mann–Whitney U significant). Management prioritization may require category-specific strategies (e.g., targeted actions for plant microhabitats vs. animal movement corridors).\n"
   ]
  }
 ],
 "metadata": {},
 "nbformat": 4,
 "nbformat_minor": 5
}
